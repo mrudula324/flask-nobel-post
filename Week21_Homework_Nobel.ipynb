{
 "cells": [
  {
   "cell_type": "markdown",
   "metadata": {
    "collapsed": true
   },
   "source": [
    "1. 1.\tCreate a basic API in Azure (as we did in class) that tells you how to access the different endpoints when you go to the home page. You should have the following endpoints:"
   ]
  },
  {
   "cell_type": "markdown",
   "metadata": {},
   "source": [
    "### Visual Code Output:\n",
    "\n",
    "https://github.com/mrudula324/flask-nobel-json/tree/master/flask-nobel1"
   ]
  },
  {
   "cell_type": "markdown",
   "metadata": {},
   "source": [
    "![](1.png)\n",
    "\n",
    "![](2.png)\n",
    "\n",
    "![](3.png)\n",
    "\n",
    "![](4.png)\n",
    "\n",
    "![](5.png)\n",
    "#### New data appended at the end of the file."
   ]
  },
  {
   "cell_type": "markdown",
   "metadata": {},
   "source": [
    "#### Azure outputs:"
   ]
  },
  {
   "cell_type": "markdown",
   "metadata": {},
   "source": [
    "a.\tA /all endpoint that displays all of the nobel.json data\n",
    "\n",
    "![](A_1.png)\n",
    "\n"
   ]
  },
  {
   "cell_type": "markdown",
   "metadata": {},
   "source": [
    "b.\tA /<year> GET endpoint that allows for you to pass in any year and shows you the Nobel prizes from that year\n",
    "\n",
    "![](A_get.png)\n"
   ]
  },
  {
   "cell_type": "markdown",
   "metadata": {},
   "source": [
    "c.\tA /<year> POST endpoint that lets you add additional data\n",
    " \tMake sure you see your updates when you go to /all\n",
    "\n",
    "![](A_2.png)\n",
    "    \n",
    "![](A_3.png)\n",
    "\n",
    "![](4.png)\n",
    "\n",
    "    "
   ]
  },
  {
   "cell_type": "markdown",
   "metadata": {},
   "source": [
    "2.What kind of API did you build? What types of APIs are there? Why are APIs important?"
   ]
  },
  {
   "cell_type": "markdown",
   "metadata": {},
   "source": [
    "#### API used to build the nobel app is web based REST  api. REST stands for REpresentational State Transfer. \n",
    "\n",
    "#### API are classified based on different categoreies such as web api's, communication level api's, owner ship based api's.\n",
    "#### Types of API's: \n",
    "#### 1. REST: These are more complex, supports  ACID compliance also posses high security features. These are used to reduce the payloads.\n",
    "#### 2. SOAP: Simple Object Access Protocol, this is also a web api similar to REST. \n",
    "#### 3. RPC: Oldest api that helps developers to execute code on the server. \n",
    "\n",
    "#### API (Application Program Interfaces) are very vital for the business as api's allows capabilities of one computer to be used by other computer. Its a software interface that enables two applications to communicate and exchange data with each other. It reduces the time to rework as same code can be used for multiple times. Some of the business applications include marketing, sales promotions, ease of integrations to back end applications."
   ]
  },
  {
   "cell_type": "code",
   "execution_count": null,
   "metadata": {
    "collapsed": true
   },
   "outputs": [],
   "source": []
  }
 ],
 "metadata": {
  "anaconda-cloud": {},
  "kernelspec": {
   "display_name": "Python [default]",
   "language": "python",
   "name": "python3"
  },
  "language_info": {
   "codemirror_mode": {
    "name": "ipython",
    "version": 3
   },
   "file_extension": ".py",
   "mimetype": "text/x-python",
   "name": "python",
   "nbconvert_exporter": "python",
   "pygments_lexer": "ipython3",
   "version": "3.5.2"
  }
 },
 "nbformat": 4,
 "nbformat_minor": 2
}
